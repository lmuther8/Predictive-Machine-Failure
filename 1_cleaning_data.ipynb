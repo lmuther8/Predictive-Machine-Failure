{
  "nbformat": 4,
  "nbformat_minor": 0,
  "metadata": {
    "colab": {
      "name": "1_cleaning_data.ipynb",
      "provenance": [],
      "include_colab_link": true
    },
    "kernelspec": {
      "name": "python3",
      "display_name": "Python 3"
    },
    "language_info": {
      "name": "python"
    }
  },
  "cells": [
    {
      "cell_type": "markdown",
      "metadata": {
        "id": "view-in-github",
        "colab_type": "text"
      },
      "source": [
        "<a href=\"https://colab.research.google.com/github/lmuther8/Predictive-Machine-Failure/blob/main/1_cleaning_data.ipynb\" target=\"_parent\"><img src=\"https://colab.research.google.com/assets/colab-badge.svg\" alt=\"Open In Colab\"/></a>"
      ]
    },
    {
      "cell_type": "markdown",
      "metadata": {
        "id": "Ux1GMgaLnj-A"
      },
      "source": [
        "#Using ML to predict machinery failure\n",
        "\n",
        "This notebook takes all the orignal csvs and systmeatically combines them into one master DataFrame for statistical processing in a nother notebook.\n",
        "\n",
        "Incorporates telemetry data combined with errors, failures and number of days since a component has had maintenance on it."
      ]
    },
    {
      "cell_type": "markdown",
      "metadata": {
        "id": "6uuAIF3Qrye1"
      },
      "source": [
        "##Packages and Configs"
      ]
    },
    {
      "cell_type": "code",
      "execution_count": null,
      "metadata": {
        "colab": {
          "base_uri": "https://localhost:8080/"
        },
        "id": "xFE8TKW5hJql",
        "outputId": "89c43d3e-40d4-44c7-c2f0-961ee18f7e1e"
      },
      "outputs": [
        {
          "output_type": "stream",
          "name": "stdout",
          "text": [
            "Drive already mounted at /gdrive; to attempt to forcibly remount, call drive.mount(\"/gdrive\", force_remount=True).\n",
            "/gdrive/MyDrive/ColabNotebooks/PredictiveModelling/data\n"
          ]
        }
      ],
      "source": [
        "#Connecting to G Drive\n",
        "from google.colab import drive\n",
        "\n",
        "drive.mount('/gdrive')\n",
        "%cd /gdrive/MyDrive/ColabNotebooks/PredictiveModelling/data/"
      ]
    },
    {
      "cell_type": "code",
      "source": [
        "path = %pwd"
      ],
      "metadata": {
        "id": "sg4L_adv65Kr"
      },
      "execution_count": null,
      "outputs": []
    },
    {
      "cell_type": "code",
      "execution_count": null,
      "metadata": {
        "id": "2Qr02ViOr8sl"
      },
      "outputs": [],
      "source": [
        "import pandas as pd\n",
        "import numpy as np"
      ]
    },
    {
      "cell_type": "markdown",
      "metadata": {
        "id": "H-DQYanOn7iH"
      },
      "source": [
        "##Read-in/augment data and create dataframes"
      ]
    },
    {
      "cell_type": "code",
      "execution_count": null,
      "metadata": {
        "id": "0tyKf1S0YrEy"
      },
      "outputs": [],
      "source": [
        "#read CSVs and change datetime string to datetime object\n",
        "\n",
        "telemetry_df = pd.read_csv('telemetry.csv')\n",
        "telemetry_df['datetime'] = pd.to_datetime(telemetry_df['datetime'], format='%m/%d/%Y %I:%M:%S %p')\n",
        "\n",
        "errors_df = pd.read_csv('errors.csv')\n",
        "errors_df['datetime'] = pd.to_datetime(errors_df['datetime'], format='%m/%d/%Y %I:%M:%S %p')\n",
        "\n",
        "maint_df = pd.read_csv('maint.csv')\n",
        "maint_df['datetime'] = pd.to_datetime(maint_df['datetime'], format='%m/%d/%Y %I:%M:%S %p')\n",
        "\n",
        "failures_df = pd.read_csv('failures.csv')\n",
        "failures_df['datetime'] = pd.to_datetime(failures_df['datetime'], format='%m/%d/%Y %I:%M:%S %p')\n",
        "\n",
        "#do not think I will ever use this data\n",
        "#machines_df = pd.read_csv('machines.csv')"
      ]
    },
    {
      "cell_type": "markdown",
      "metadata": {
        "id": "7xMkPbsEhETG"
      },
      "source": [
        "Reformat errors and maintenance"
      ]
    },
    {
      "cell_type": "code",
      "execution_count": null,
      "metadata": {
        "id": "8Dri9HEamYrY"
      },
      "outputs": [],
      "source": [
        "errors_count_df = pd.get_dummies(errors_df.set_index('datetime')).reset_index()\n",
        "errors_count_df.columns = ['datetime', 'machineID', 'error1', 'error2', 'error3', 'error4', 'error5']\n",
        "errors_count_df = errors_count_df.groupby(['machineID', 'datetime']).sum().reset_index()"
      ]
    },
    {
      "cell_type": "code",
      "execution_count": null,
      "metadata": {
        "colab": {
          "base_uri": "https://localhost:8080/"
        },
        "id": "XIMx26OIqRct",
        "outputId": "e08436ab-2138-456e-a1c3-a4af0302d970"
      },
      "outputs": [
        {
          "output_type": "stream",
          "name": "stdout",
          "text": [
            "(3919, 3)\n"
          ]
        },
        {
          "output_type": "execute_result",
          "data": {
            "text/plain": [
              "(3616, 7)"
            ]
          },
          "metadata": {},
          "execution_count": 8
        }
      ],
      "source": [
        "print(errors_df.shape)\n",
        "errors_count_df.shape"
      ]
    },
    {
      "cell_type": "code",
      "execution_count": null,
      "metadata": {
        "id": "tnxY7HtSrj9u"
      },
      "outputs": [],
      "source": [
        "maint_count_df = pd.get_dummies(maint_df.set_index('datetime')).reset_index()\n",
        "maint_count_df.columns = ['datetime', 'machineID', 'comp1', 'comp2', 'comp3', 'comp4']\n",
        "maint_count_df = maint_count_df.groupby(['machineID', 'datetime']).sum().reset_index()\n",
        "\n",
        "maint_count_df = telemetry_df[['datetime', 'machineID']].merge(maint_count_df, how='left', on=['datetime','machineID']).fillna(0)"
      ]
    },
    {
      "cell_type": "code",
      "execution_count": null,
      "metadata": {
        "colab": {
          "base_uri": "https://localhost:8080/"
        },
        "id": "Ce2f8skl_E_5",
        "outputId": "4c07ed1d-2048-4140-db48-0fbf4c2b23db"
      },
      "outputs": [
        {
          "output_type": "stream",
          "name": "stdout",
          "text": [
            "(3286, 3)\n"
          ]
        },
        {
          "output_type": "execute_result",
          "data": {
            "text/plain": [
              "(876100, 6)"
            ]
          },
          "metadata": {},
          "execution_count": 10
        }
      ],
      "source": [
        "print(maint_df.shape)\n",
        "maint_count_df.shape"
      ]
    },
    {
      "cell_type": "code",
      "execution_count": null,
      "metadata": {
        "id": "iBdqfrBA0Ara"
      },
      "outputs": [],
      "source": [
        "components = ['comp1', 'comp2', 'comp3', 'comp4']\n",
        "machineID = 0\n",
        "maint_days_since = []\n",
        "prev_list = []\n",
        "\n",
        "for ind, row in maint_count_df.iterrows():\n",
        "  new_list = [row['datetime'],row['machineID']]\n",
        "  if row['machineID'] == machineID:\n",
        "    for i, c in enumerate(components):\n",
        "      if row[c]==0:\n",
        "        new_list.append(prev_list[i+2]+(1/24))\n",
        "      else:\n",
        "        new_list.append(0)\n",
        "    prev_list = new_list.copy()\n",
        "  else:\n",
        "    new_list.extend([row['comp1'], row['comp2'], row['comp3'], row['comp4']])\n",
        "    machineID = row['machineID']\n",
        "    prev_list = new_list.copy()\n",
        "  maint_days_since.append(new_list)\n",
        "\n"
      ]
    },
    {
      "cell_type": "code",
      "execution_count": null,
      "metadata": {
        "id": "pERQognR_toa"
      },
      "outputs": [],
      "source": [
        "maint_days_since_df = pd.DataFrame(maint_days_since, columns=['datetime', 'machineID','comp1', 'comp2', 'comp3', 'comp4'])"
      ]
    },
    {
      "cell_type": "code",
      "execution_count": null,
      "metadata": {
        "colab": {
          "base_uri": "https://localhost:8080/",
          "height": 206
        },
        "id": "8yjmbDkRtpGm",
        "outputId": "f44ff023-8d7b-4e8e-9af6-c720a75c61e3"
      },
      "outputs": [
        {
          "output_type": "execute_result",
          "data": {
            "text/plain": [
              "              datetime  machineID     comp1     comp2     comp3     comp4\n",
              "50 2015-01-03 08:00:00          1  2.083333  2.083333  2.083333  2.083333\n",
              "51 2015-01-03 09:00:00          1  2.125000  2.125000  2.125000  2.125000\n",
              "52 2015-01-03 10:00:00          1  2.166667  2.166667  2.166667  2.166667\n",
              "53 2015-01-03 11:00:00          1  2.208333  2.208333  2.208333  2.208333\n",
              "54 2015-01-03 12:00:00          1  2.250000  2.250000  2.250000  2.250000"
            ],
            "text/html": [
              "\n",
              "  <div id=\"df-18d99d4b-e1b2-452c-b0e2-b8d88d592dad\">\n",
              "    <div class=\"colab-df-container\">\n",
              "      <div>\n",
              "<style scoped>\n",
              "    .dataframe tbody tr th:only-of-type {\n",
              "        vertical-align: middle;\n",
              "    }\n",
              "\n",
              "    .dataframe tbody tr th {\n",
              "        vertical-align: top;\n",
              "    }\n",
              "\n",
              "    .dataframe thead th {\n",
              "        text-align: right;\n",
              "    }\n",
              "</style>\n",
              "<table border=\"1\" class=\"dataframe\">\n",
              "  <thead>\n",
              "    <tr style=\"text-align: right;\">\n",
              "      <th></th>\n",
              "      <th>datetime</th>\n",
              "      <th>machineID</th>\n",
              "      <th>comp1</th>\n",
              "      <th>comp2</th>\n",
              "      <th>comp3</th>\n",
              "      <th>comp4</th>\n",
              "    </tr>\n",
              "  </thead>\n",
              "  <tbody>\n",
              "    <tr>\n",
              "      <th>50</th>\n",
              "      <td>2015-01-03 08:00:00</td>\n",
              "      <td>1</td>\n",
              "      <td>2.083333</td>\n",
              "      <td>2.083333</td>\n",
              "      <td>2.083333</td>\n",
              "      <td>2.083333</td>\n",
              "    </tr>\n",
              "    <tr>\n",
              "      <th>51</th>\n",
              "      <td>2015-01-03 09:00:00</td>\n",
              "      <td>1</td>\n",
              "      <td>2.125000</td>\n",
              "      <td>2.125000</td>\n",
              "      <td>2.125000</td>\n",
              "      <td>2.125000</td>\n",
              "    </tr>\n",
              "    <tr>\n",
              "      <th>52</th>\n",
              "      <td>2015-01-03 10:00:00</td>\n",
              "      <td>1</td>\n",
              "      <td>2.166667</td>\n",
              "      <td>2.166667</td>\n",
              "      <td>2.166667</td>\n",
              "      <td>2.166667</td>\n",
              "    </tr>\n",
              "    <tr>\n",
              "      <th>53</th>\n",
              "      <td>2015-01-03 11:00:00</td>\n",
              "      <td>1</td>\n",
              "      <td>2.208333</td>\n",
              "      <td>2.208333</td>\n",
              "      <td>2.208333</td>\n",
              "      <td>2.208333</td>\n",
              "    </tr>\n",
              "    <tr>\n",
              "      <th>54</th>\n",
              "      <td>2015-01-03 12:00:00</td>\n",
              "      <td>1</td>\n",
              "      <td>2.250000</td>\n",
              "      <td>2.250000</td>\n",
              "      <td>2.250000</td>\n",
              "      <td>2.250000</td>\n",
              "    </tr>\n",
              "  </tbody>\n",
              "</table>\n",
              "</div>\n",
              "      <button class=\"colab-df-convert\" onclick=\"convertToInteractive('df-18d99d4b-e1b2-452c-b0e2-b8d88d592dad')\"\n",
              "              title=\"Convert this dataframe to an interactive table.\"\n",
              "              style=\"display:none;\">\n",
              "        \n",
              "  <svg xmlns=\"http://www.w3.org/2000/svg\" height=\"24px\"viewBox=\"0 0 24 24\"\n",
              "       width=\"24px\">\n",
              "    <path d=\"M0 0h24v24H0V0z\" fill=\"none\"/>\n",
              "    <path d=\"M18.56 5.44l.94 2.06.94-2.06 2.06-.94-2.06-.94-.94-2.06-.94 2.06-2.06.94zm-11 1L8.5 8.5l.94-2.06 2.06-.94-2.06-.94L8.5 2.5l-.94 2.06-2.06.94zm10 10l.94 2.06.94-2.06 2.06-.94-2.06-.94-.94-2.06-.94 2.06-2.06.94z\"/><path d=\"M17.41 7.96l-1.37-1.37c-.4-.4-.92-.59-1.43-.59-.52 0-1.04.2-1.43.59L10.3 9.45l-7.72 7.72c-.78.78-.78 2.05 0 2.83L4 21.41c.39.39.9.59 1.41.59.51 0 1.02-.2 1.41-.59l7.78-7.78 2.81-2.81c.8-.78.8-2.07 0-2.86zM5.41 20L4 18.59l7.72-7.72 1.47 1.35L5.41 20z\"/>\n",
              "  </svg>\n",
              "      </button>\n",
              "      \n",
              "  <style>\n",
              "    .colab-df-container {\n",
              "      display:flex;\n",
              "      flex-wrap:wrap;\n",
              "      gap: 12px;\n",
              "    }\n",
              "\n",
              "    .colab-df-convert {\n",
              "      background-color: #E8F0FE;\n",
              "      border: none;\n",
              "      border-radius: 50%;\n",
              "      cursor: pointer;\n",
              "      display: none;\n",
              "      fill: #1967D2;\n",
              "      height: 32px;\n",
              "      padding: 0 0 0 0;\n",
              "      width: 32px;\n",
              "    }\n",
              "\n",
              "    .colab-df-convert:hover {\n",
              "      background-color: #E2EBFA;\n",
              "      box-shadow: 0px 1px 2px rgba(60, 64, 67, 0.3), 0px 1px 3px 1px rgba(60, 64, 67, 0.15);\n",
              "      fill: #174EA6;\n",
              "    }\n",
              "\n",
              "    [theme=dark] .colab-df-convert {\n",
              "      background-color: #3B4455;\n",
              "      fill: #D2E3FC;\n",
              "    }\n",
              "\n",
              "    [theme=dark] .colab-df-convert:hover {\n",
              "      background-color: #434B5C;\n",
              "      box-shadow: 0px 1px 3px 1px rgba(0, 0, 0, 0.15);\n",
              "      filter: drop-shadow(0px 1px 2px rgba(0, 0, 0, 0.3));\n",
              "      fill: #FFFFFF;\n",
              "    }\n",
              "  </style>\n",
              "\n",
              "      <script>\n",
              "        const buttonEl =\n",
              "          document.querySelector('#df-18d99d4b-e1b2-452c-b0e2-b8d88d592dad button.colab-df-convert');\n",
              "        buttonEl.style.display =\n",
              "          google.colab.kernel.accessAllowed ? 'block' : 'none';\n",
              "\n",
              "        async function convertToInteractive(key) {\n",
              "          const element = document.querySelector('#df-18d99d4b-e1b2-452c-b0e2-b8d88d592dad');\n",
              "          const dataTable =\n",
              "            await google.colab.kernel.invokeFunction('convertToInteractive',\n",
              "                                                     [key], {});\n",
              "          if (!dataTable) return;\n",
              "\n",
              "          const docLinkHtml = 'Like what you see? Visit the ' +\n",
              "            '<a target=\"_blank\" href=https://colab.research.google.com/notebooks/data_table.ipynb>data table notebook</a>'\n",
              "            + ' to learn more about interactive tables.';\n",
              "          element.innerHTML = '';\n",
              "          dataTable['output_type'] = 'display_data';\n",
              "          await google.colab.output.renderOutput(dataTable, element);\n",
              "          const docLink = document.createElement('div');\n",
              "          docLink.innerHTML = docLinkHtml;\n",
              "          element.appendChild(docLink);\n",
              "        }\n",
              "      </script>\n",
              "    </div>\n",
              "  </div>\n",
              "  "
            ]
          },
          "metadata": {},
          "execution_count": 13
        }
      ],
      "source": [
        "maint_days_since_df[50:55]"
      ]
    },
    {
      "cell_type": "markdown",
      "metadata": {
        "id": "dWVqo57wXckt"
      },
      "source": [
        "Combine all DataFrames into one: `master_df`\n",
        "\n"
      ]
    },
    {
      "cell_type": "code",
      "execution_count": null,
      "metadata": {
        "id": "OHB74sLqCXYC"
      },
      "outputs": [],
      "source": [
        "master_df = telemetry_df.merge(maint_days_since_df, how='left', on=['datetime','machineID'])\n",
        "master_df = master_df.merge(errors_count_df, how='left', on=['datetime','machineID'])\n",
        "master_df = master_df.merge(failures_df, how='left', on=['datetime','machineID'])"
      ]
    },
    {
      "cell_type": "code",
      "execution_count": null,
      "metadata": {
        "colab": {
          "base_uri": "https://localhost:8080/",
          "height": 444
        },
        "id": "4J7JKUD8t4_x",
        "outputId": "4dec59b2-fac2-4e34-ea0f-26341a44a949"
      },
      "outputs": [
        {
          "output_type": "execute_result",
          "data": {
            "text/plain": [
              "             datetime  machineID        volt      rotate    pressure  \\\n",
              "0 2015-01-01 06:00:00          1  176.217853  418.504078  113.077935   \n",
              "1 2015-01-01 07:00:00          1  162.879223  402.747490   95.460525   \n",
              "2 2015-01-01 08:00:00          1  170.989902  527.349825   75.237905   \n",
              "3 2015-01-01 09:00:00          1  162.462833  346.149335  109.248561   \n",
              "4 2015-01-01 10:00:00          1  157.610021  435.376873  111.886648   \n",
              "\n",
              "   vibration     comp1     comp2     comp3     comp4  error1  error2  error3  \\\n",
              "0  45.087686  0.000000  0.000000  0.000000  0.000000     NaN     NaN     NaN   \n",
              "1  43.413973  0.041667  0.041667  0.041667  0.041667     NaN     NaN     NaN   \n",
              "2  34.178847  0.083333  0.083333  0.083333  0.083333     NaN     NaN     NaN   \n",
              "3  41.122144  0.125000  0.125000  0.125000  0.125000     NaN     NaN     NaN   \n",
              "4  25.990511  0.166667  0.166667  0.166667  0.166667     NaN     NaN     NaN   \n",
              "\n",
              "   error4  error5 failure  \n",
              "0     NaN     NaN     NaN  \n",
              "1     NaN     NaN     NaN  \n",
              "2     NaN     NaN     NaN  \n",
              "3     NaN     NaN     NaN  \n",
              "4     NaN     NaN     NaN  "
            ],
            "text/html": [
              "\n",
              "  <div id=\"df-65221850-508f-4473-8857-00846c4b0ebd\">\n",
              "    <div class=\"colab-df-container\">\n",
              "      <div>\n",
              "<style scoped>\n",
              "    .dataframe tbody tr th:only-of-type {\n",
              "        vertical-align: middle;\n",
              "    }\n",
              "\n",
              "    .dataframe tbody tr th {\n",
              "        vertical-align: top;\n",
              "    }\n",
              "\n",
              "    .dataframe thead th {\n",
              "        text-align: right;\n",
              "    }\n",
              "</style>\n",
              "<table border=\"1\" class=\"dataframe\">\n",
              "  <thead>\n",
              "    <tr style=\"text-align: right;\">\n",
              "      <th></th>\n",
              "      <th>datetime</th>\n",
              "      <th>machineID</th>\n",
              "      <th>volt</th>\n",
              "      <th>rotate</th>\n",
              "      <th>pressure</th>\n",
              "      <th>vibration</th>\n",
              "      <th>comp1</th>\n",
              "      <th>comp2</th>\n",
              "      <th>comp3</th>\n",
              "      <th>comp4</th>\n",
              "      <th>error1</th>\n",
              "      <th>error2</th>\n",
              "      <th>error3</th>\n",
              "      <th>error4</th>\n",
              "      <th>error5</th>\n",
              "      <th>failure</th>\n",
              "    </tr>\n",
              "  </thead>\n",
              "  <tbody>\n",
              "    <tr>\n",
              "      <th>0</th>\n",
              "      <td>2015-01-01 06:00:00</td>\n",
              "      <td>1</td>\n",
              "      <td>176.217853</td>\n",
              "      <td>418.504078</td>\n",
              "      <td>113.077935</td>\n",
              "      <td>45.087686</td>\n",
              "      <td>0.000000</td>\n",
              "      <td>0.000000</td>\n",
              "      <td>0.000000</td>\n",
              "      <td>0.000000</td>\n",
              "      <td>NaN</td>\n",
              "      <td>NaN</td>\n",
              "      <td>NaN</td>\n",
              "      <td>NaN</td>\n",
              "      <td>NaN</td>\n",
              "      <td>NaN</td>\n",
              "    </tr>\n",
              "    <tr>\n",
              "      <th>1</th>\n",
              "      <td>2015-01-01 07:00:00</td>\n",
              "      <td>1</td>\n",
              "      <td>162.879223</td>\n",
              "      <td>402.747490</td>\n",
              "      <td>95.460525</td>\n",
              "      <td>43.413973</td>\n",
              "      <td>0.041667</td>\n",
              "      <td>0.041667</td>\n",
              "      <td>0.041667</td>\n",
              "      <td>0.041667</td>\n",
              "      <td>NaN</td>\n",
              "      <td>NaN</td>\n",
              "      <td>NaN</td>\n",
              "      <td>NaN</td>\n",
              "      <td>NaN</td>\n",
              "      <td>NaN</td>\n",
              "    </tr>\n",
              "    <tr>\n",
              "      <th>2</th>\n",
              "      <td>2015-01-01 08:00:00</td>\n",
              "      <td>1</td>\n",
              "      <td>170.989902</td>\n",
              "      <td>527.349825</td>\n",
              "      <td>75.237905</td>\n",
              "      <td>34.178847</td>\n",
              "      <td>0.083333</td>\n",
              "      <td>0.083333</td>\n",
              "      <td>0.083333</td>\n",
              "      <td>0.083333</td>\n",
              "      <td>NaN</td>\n",
              "      <td>NaN</td>\n",
              "      <td>NaN</td>\n",
              "      <td>NaN</td>\n",
              "      <td>NaN</td>\n",
              "      <td>NaN</td>\n",
              "    </tr>\n",
              "    <tr>\n",
              "      <th>3</th>\n",
              "      <td>2015-01-01 09:00:00</td>\n",
              "      <td>1</td>\n",
              "      <td>162.462833</td>\n",
              "      <td>346.149335</td>\n",
              "      <td>109.248561</td>\n",
              "      <td>41.122144</td>\n",
              "      <td>0.125000</td>\n",
              "      <td>0.125000</td>\n",
              "      <td>0.125000</td>\n",
              "      <td>0.125000</td>\n",
              "      <td>NaN</td>\n",
              "      <td>NaN</td>\n",
              "      <td>NaN</td>\n",
              "      <td>NaN</td>\n",
              "      <td>NaN</td>\n",
              "      <td>NaN</td>\n",
              "    </tr>\n",
              "    <tr>\n",
              "      <th>4</th>\n",
              "      <td>2015-01-01 10:00:00</td>\n",
              "      <td>1</td>\n",
              "      <td>157.610021</td>\n",
              "      <td>435.376873</td>\n",
              "      <td>111.886648</td>\n",
              "      <td>25.990511</td>\n",
              "      <td>0.166667</td>\n",
              "      <td>0.166667</td>\n",
              "      <td>0.166667</td>\n",
              "      <td>0.166667</td>\n",
              "      <td>NaN</td>\n",
              "      <td>NaN</td>\n",
              "      <td>NaN</td>\n",
              "      <td>NaN</td>\n",
              "      <td>NaN</td>\n",
              "      <td>NaN</td>\n",
              "    </tr>\n",
              "  </tbody>\n",
              "</table>\n",
              "</div>\n",
              "      <button class=\"colab-df-convert\" onclick=\"convertToInteractive('df-65221850-508f-4473-8857-00846c4b0ebd')\"\n",
              "              title=\"Convert this dataframe to an interactive table.\"\n",
              "              style=\"display:none;\">\n",
              "        \n",
              "  <svg xmlns=\"http://www.w3.org/2000/svg\" height=\"24px\"viewBox=\"0 0 24 24\"\n",
              "       width=\"24px\">\n",
              "    <path d=\"M0 0h24v24H0V0z\" fill=\"none\"/>\n",
              "    <path d=\"M18.56 5.44l.94 2.06.94-2.06 2.06-.94-2.06-.94-.94-2.06-.94 2.06-2.06.94zm-11 1L8.5 8.5l.94-2.06 2.06-.94-2.06-.94L8.5 2.5l-.94 2.06-2.06.94zm10 10l.94 2.06.94-2.06 2.06-.94-2.06-.94-.94-2.06-.94 2.06-2.06.94z\"/><path d=\"M17.41 7.96l-1.37-1.37c-.4-.4-.92-.59-1.43-.59-.52 0-1.04.2-1.43.59L10.3 9.45l-7.72 7.72c-.78.78-.78 2.05 0 2.83L4 21.41c.39.39.9.59 1.41.59.51 0 1.02-.2 1.41-.59l7.78-7.78 2.81-2.81c.8-.78.8-2.07 0-2.86zM5.41 20L4 18.59l7.72-7.72 1.47 1.35L5.41 20z\"/>\n",
              "  </svg>\n",
              "      </button>\n",
              "      \n",
              "  <style>\n",
              "    .colab-df-container {\n",
              "      display:flex;\n",
              "      flex-wrap:wrap;\n",
              "      gap: 12px;\n",
              "    }\n",
              "\n",
              "    .colab-df-convert {\n",
              "      background-color: #E8F0FE;\n",
              "      border: none;\n",
              "      border-radius: 50%;\n",
              "      cursor: pointer;\n",
              "      display: none;\n",
              "      fill: #1967D2;\n",
              "      height: 32px;\n",
              "      padding: 0 0 0 0;\n",
              "      width: 32px;\n",
              "    }\n",
              "\n",
              "    .colab-df-convert:hover {\n",
              "      background-color: #E2EBFA;\n",
              "      box-shadow: 0px 1px 2px rgba(60, 64, 67, 0.3), 0px 1px 3px 1px rgba(60, 64, 67, 0.15);\n",
              "      fill: #174EA6;\n",
              "    }\n",
              "\n",
              "    [theme=dark] .colab-df-convert {\n",
              "      background-color: #3B4455;\n",
              "      fill: #D2E3FC;\n",
              "    }\n",
              "\n",
              "    [theme=dark] .colab-df-convert:hover {\n",
              "      background-color: #434B5C;\n",
              "      box-shadow: 0px 1px 3px 1px rgba(0, 0, 0, 0.15);\n",
              "      filter: drop-shadow(0px 1px 2px rgba(0, 0, 0, 0.3));\n",
              "      fill: #FFFFFF;\n",
              "    }\n",
              "  </style>\n",
              "\n",
              "      <script>\n",
              "        const buttonEl =\n",
              "          document.querySelector('#df-65221850-508f-4473-8857-00846c4b0ebd button.colab-df-convert');\n",
              "        buttonEl.style.display =\n",
              "          google.colab.kernel.accessAllowed ? 'block' : 'none';\n",
              "\n",
              "        async function convertToInteractive(key) {\n",
              "          const element = document.querySelector('#df-65221850-508f-4473-8857-00846c4b0ebd');\n",
              "          const dataTable =\n",
              "            await google.colab.kernel.invokeFunction('convertToInteractive',\n",
              "                                                     [key], {});\n",
              "          if (!dataTable) return;\n",
              "\n",
              "          const docLinkHtml = 'Like what you see? Visit the ' +\n",
              "            '<a target=\"_blank\" href=https://colab.research.google.com/notebooks/data_table.ipynb>data table notebook</a>'\n",
              "            + ' to learn more about interactive tables.';\n",
              "          element.innerHTML = '';\n",
              "          dataTable['output_type'] = 'display_data';\n",
              "          await google.colab.output.renderOutput(dataTable, element);\n",
              "          const docLink = document.createElement('div');\n",
              "          docLink.innerHTML = docLinkHtml;\n",
              "          element.appendChild(docLink);\n",
              "        }\n",
              "      </script>\n",
              "    </div>\n",
              "  </div>\n",
              "  "
            ]
          },
          "metadata": {},
          "execution_count": 15
        }
      ],
      "source": [
        "master_df.head()"
      ]
    },
    {
      "cell_type": "markdown",
      "source": [
        "###Output master df to drive as csv"
      ],
      "metadata": {
        "id": "Edjt3sbs6v1K"
      }
    },
    {
      "cell_type": "code",
      "source": [
        "with open(path+'/combined_data.csv', 'w', encoding = 'utf-8-sig') as f:\n",
        "  master_df.to_csv(f)"
      ],
      "metadata": {
        "id": "Pwa0r67C6vgc"
      },
      "execution_count": null,
      "outputs": []
    }
  ]
}