{
  "nbformat": 4,
  "nbformat_minor": 0,
  "metadata": {
    "colab": {
      "name": "2_fine_tuning.ipynb",
      "provenance": [],
      "toc_visible": true,
      "collapsed_sections": [],
      "include_colab_link": true
    },
    "kernelspec": {
      "name": "python3",
      "display_name": "Python 3"
    },
    "language_info": {
      "name": "python"
    },
    "accelerator": "GPU"
  },
  "cells": [
    {
      "cell_type": "markdown",
      "metadata": {
        "id": "view-in-github",
        "colab_type": "text"
      },
      "source": [
        "<a href=\"https://colab.research.google.com/github/lmuther8/Predictive-Machine-Failure/blob/main/2_fine_tuning.ipynb\" target=\"_parent\"><img src=\"https://colab.research.google.com/assets/colab-badge.svg\" alt=\"Open In Colab\"/></a>"
      ]
    },
    {
      "cell_type": "markdown",
      "source": [
        "#Using ML to predict machinery failure\n",
        "\n",
        "In this notebook we read in the master DataFrame and then acquire the neccessary statistics in order to fine tune a machine learning classifier model.\n",
        "\n",
        "This model incorporates 24 hour and 3 hour lag-data statistics, total number of errors in each time period, and days since each component has had maintenance on it.\n",
        "\n",
        "This also validates samples data to make sure it is across the same machine and consistent data over the time period."
      ],
      "metadata": {
        "id": "Jo2OmmCxo25I"
      }
    },
    {
      "cell_type": "markdown",
      "source": [
        "##Configs"
      ],
      "metadata": {
        "id": "L8dGbFtgpKRP"
      }
    },
    {
      "cell_type": "code",
      "execution_count": null,
      "metadata": {
        "colab": {
          "base_uri": "https://localhost:8080/"
        },
        "id": "ivW9AWYdohXt",
        "outputId": "56b11da6-0bb5-4b9e-99e3-2116fab6ca18"
      },
      "outputs": [
        {
          "output_type": "stream",
          "name": "stdout",
          "text": [
            "Mounted at /gdrive\n",
            "/gdrive/MyDrive/PredictiveModelling/data\n"
          ]
        }
      ],
      "source": [
        "#Connecting to G Drive\n",
        "from google.colab import drive\n",
        "\n",
        "drive.mount('/gdrive')\n",
        "%cd /gdrive/MyDrive/ColabNotebooks/PredictiveModelling/data/"
      ]
    },
    {
      "cell_type": "code",
      "source": [
        "import pandas as pd\n",
        "import numpy as np\n",
        "from xgboost import XGBClassifier\n",
        "from sklearn import metrics\n",
        "from sklearn.model_selection import GridSearchCV"
      ],
      "metadata": {
        "id": "vV5v-tbIpkSb"
      },
      "execution_count": null,
      "outputs": []
    },
    {
      "cell_type": "code",
      "source": [
        "master_df = pd.read_csv('combined_data.csv')\n",
        "master_df['datetime'] = pd.to_datetime(master_df['datetime']) #no formatting needed as it is already default style"
      ],
      "metadata": {
        "id": "BY7JYUc2pbHC"
      },
      "execution_count": null,
      "outputs": []
    },
    {
      "cell_type": "markdown",
      "metadata": {
        "id": "jhWvhYQ0f3Ws"
      },
      "source": [
        "##Create data neccessary for creating a model"
      ]
    },
    {
      "cell_type": "markdown",
      "metadata": {
        "id": "DppC4w1dB1tM"
      },
      "source": [
        "###Functions to get necessary stats from TS data"
      ]
    },
    {
      "cell_type": "code",
      "execution_count": null,
      "metadata": {
        "id": "bQYGNjv4AnEc"
      },
      "outputs": [],
      "source": [
        "tel_columns = [\"volt\", \"rotate\", \"pressure\", \"vibration\"]\n",
        "error_columns = [\"error1\", \"error2\", \"error3\", \"error4\", \"error5\"]\n",
        "maint_columns = [\"comp1\", \"comp2\", \"comp3\", \"comp4\"]"
      ]
    },
    {
      "cell_type": "code",
      "execution_count": null,
      "metadata": {
        "id": "J1PjY8ezAlHo"
      },
      "outputs": [],
      "source": [
        "def validate_machine(df, lag_start, lag_length):\n",
        "  if df['machineID'][lag_start-lag_length] == df['machineID'][lag_start]:\n",
        "    return True\n",
        "  else:\n",
        "    return False"
      ]
    },
    {
      "cell_type": "code",
      "execution_count": null,
      "metadata": {
        "id": "gAde5Qo-BrvG"
      },
      "outputs": [],
      "source": [
        "def validate_datetime(df, lag_start, lag_length):\n",
        "  if df['datetime'][lag_start-lag_length]+pd.Timedelta(str(lag_length)+' hours') == df['datetime'][lag_start]:\n",
        "    return True\n",
        "  else:\n",
        "    return False"
      ]
    },
    {
      "cell_type": "code",
      "execution_count": null,
      "metadata": {
        "id": "WRiCXvpEB-90"
      },
      "outputs": [],
      "source": [
        "def get_stats(df, lag_start, lag_length):\n",
        "  lag_df = df.iloc[lag_start-lag_length:lag_start+1]\n",
        "  \n",
        "  if not validate_machine(lag_df, lag_start, lag_length):\n",
        "    raise ValueError('This DataFrame consists of data across different machines at index {} for {} hours of lag'.format(lag_start,lag_length))\n",
        "  \n",
        "  if not validate_datetime(lag_df, lag_start, lag_length):\n",
        "    raise ValueError('The DataFrame does not contain {} hours of continuous data at index {}'.format(lag_length, lag_start))\n",
        "  \n",
        "  res = []\n",
        "  for c in tel_columns:\n",
        "    res.extend([\n",
        "                lag_df[c].min(),\n",
        "                lag_df[c].max(),\n",
        "                lag_df[c].std(),\n",
        "                lag_df[c].mean()\n",
        "    ])\n",
        "  \n",
        "  for c in error_columns:\n",
        "    res.append(lag_df[c].sum())\n",
        "  \n",
        "  for c in maint_columns:\n",
        "    res.append(master_df[c][lag_start+1])\n",
        "\n",
        "  return res"
      ]
    },
    {
      "cell_type": "markdown",
      "metadata": {
        "id": "ofj5BfitCiEW"
      },
      "source": [
        "###Create DataFrame consisting of all failures and the stats on the data leading up to the failure"
      ]
    },
    {
      "cell_type": "code",
      "execution_count": null,
      "metadata": {
        "id": "27n4rm-r-pxR"
      },
      "outputs": [],
      "source": [
        "col_titles = []\n",
        "for c in tel_columns:\n",
        "  col_titles.append(c+'_min')\n",
        "  col_titles.append(c+'_max')\n",
        "  col_titles.append(c+'_std')\n",
        "  col_titles.append(c+'_mean')\n",
        "col_titles.extend(error_columns)\n",
        "col_titles.extend(maint_columns)\n",
        "\n",
        "lag_length_short = 3\n",
        "\n",
        "for c in col_titles.copy():\n",
        "  col_titles.append(c+'3')"
      ]
    },
    {
      "cell_type": "code",
      "execution_count": null,
      "metadata": {
        "id": "d96Xgkppcxid"
      },
      "outputs": [],
      "source": [
        "failure_indexes = master_df.index[master_df['failure'].notnull()]"
      ]
    },
    {
      "cell_type": "code",
      "execution_count": null,
      "metadata": {
        "colab": {
          "base_uri": "https://localhost:8080/"
        },
        "id": "AqV8Y7PdGs65",
        "outputId": "b6c5178a-ed2b-45b6-8463-8860cbe598cb"
      },
      "outputs": [
        {
          "output_type": "stream",
          "name": "stdout",
          "text": [
            "This DataFrame consists of data across different machines at index 131433 for 24 hours of lag\n",
            "This DataFrame consists of data across different machines at index 131434 for 24 hours of lag\n",
            "This DataFrame consists of data across different machines at index 140196 for 24 hours of lag\n",
            "This DataFrame consists of data across different machines at index 184004 for 24 hours of lag\n",
            "This DataFrame consists of data across different machines at index 201531 for 24 hours of lag\n",
            "This DataFrame consists of data across different machines at index 297905 for 24 hours of lag\n",
            "This DataFrame consists of data across different machines at index 385517 for 24 hours of lag\n",
            "This DataFrame consists of data across different machines at index 438084 for 24 hours of lag\n",
            "This DataFrame consists of data across different machines at index 481891 for 24 hours of lag\n",
            "This DataFrame consists of data across different machines at index 499414 for 24 hours of lag\n",
            "This DataFrame consists of data across different machines at index 508175 for 24 hours of lag\n",
            "This DataFrame consists of data across different machines at index 630833 for 24 hours of lag\n",
            "This DataFrame consists of data across different machines at index 630836 for 24 hours of lag\n",
            "This DataFrame consists of data across different machines at index 683399 for 24 hours of lag\n",
            "This DataFrame consists of data across different machines at index 692160 for 24 hours of lag\n",
            "This DataFrame consists of data across different machines at index 700924 for 24 hours of lag\n",
            "This DataFrame consists of data across different machines at index 718443 for 24 hours of lag\n",
            "This DataFrame consists of data across different machines at index 744728 for 24 hours of lag\n",
            "This DataFrame consists of data across different machines at index 753489 for 24 hours of lag\n",
            "This DataFrame consists of data across different machines at index 814820 for 24 hours of lag\n",
            "This DataFrame consists of data across different machines at index 858629 for 24 hours of lag\n"
          ]
        }
      ],
      "source": [
        "lag_length = 24\n",
        "predict_ahead = 12\n",
        "\n",
        "failures_stats = []\n",
        "\n",
        "for f in failure_indexes:\n",
        "  try:\n",
        "    temp_ls = get_stats(master_df, f-predict_ahead, lag_length)\n",
        "    temp_ls.extend(get_stats(master_df, f-predict_ahead, lag_length_short))\n",
        "    failures_stats.append(temp_ls)\n",
        "  except Exception as e:\n",
        "    print(e)\n"
      ]
    },
    {
      "cell_type": "code",
      "execution_count": null,
      "metadata": {
        "id": "qrQF2tYm-2w4"
      },
      "outputs": [],
      "source": [
        "failures_stats_df = pd.DataFrame(failures_stats, columns = col_titles)\n",
        "\n",
        "failures_stats_df['failure'] = True"
      ]
    },
    {
      "cell_type": "code",
      "execution_count": null,
      "metadata": {
        "colab": {
          "base_uri": "https://localhost:8080/",
          "height": 317
        },
        "id": "7ZIm_CTcACa-",
        "outputId": "711329d0-4920-4720-f396-2eca9d52594e"
      },
      "outputs": [
        {
          "output_type": "stream",
          "name": "stdout",
          "text": [
            "(740, 51)\n"
          ]
        },
        {
          "output_type": "execute_result",
          "data": {
            "text/plain": [
              "     volt_min    volt_max   volt_std   volt_mean  rotate_min  rotate_max  \\\n",
              "0  129.016707  215.656488  18.137433  172.306548  365.213804  520.582694   \n",
              "1  158.476091  216.930340  15.433975  189.281258  354.540120  506.733460   \n",
              "2  150.503649  201.731995  13.304016  173.429452  215.619476  489.502527   \n",
              "3  142.165191  198.380679  15.522807  171.752624  387.342414  590.323104   \n",
              "4  138.740244  196.427450  13.723886  169.202447  345.711420  549.741973   \n",
              "\n",
              "   rotate_std  rotate_mean  pressure_min  pressure_max  ...  error13  error23  \\\n",
              "0   41.565146   443.474698     82.400818    118.853452  ...      0.0      0.0   \n",
              "1   47.495033   437.524998     74.378060    115.511427  ...      0.0      0.0   \n",
              "2   61.290206   372.903177     79.552597    121.827141  ...      0.0      0.0   \n",
              "3   44.815089   457.237727     80.630055    136.553131  ...      0.0      0.0   \n",
              "4   46.696763   450.423297     75.959631    121.728619  ...      0.0      0.0   \n",
              "\n",
              "   error33  error43  error53     comp13      comp23     comp33      comp43  \\\n",
              "0      0.0      0.0      0.0   3.541667    3.541667   3.541667    3.541667   \n",
              "1      0.0      0.0      0.0  44.541667   63.541667  14.541667   29.541667   \n",
              "2      0.0      0.0      0.0  29.541667  108.541667  14.541667   74.541667   \n",
              "3      0.0      0.0      0.0  89.541667   29.541667  14.541667  134.541667   \n",
              "4      0.0      0.0      0.0  29.541667   59.541667  89.541667   74.541667   \n",
              "\n",
              "   failure  \n",
              "0     True  \n",
              "1     True  \n",
              "2     True  \n",
              "3     True  \n",
              "4     True  \n",
              "\n",
              "[5 rows x 51 columns]"
            ],
            "text/html": [
              "\n",
              "  <div id=\"df-e90ca7c6-e15c-424c-92aa-73ec5eade7fe\">\n",
              "    <div class=\"colab-df-container\">\n",
              "      <div>\n",
              "<style scoped>\n",
              "    .dataframe tbody tr th:only-of-type {\n",
              "        vertical-align: middle;\n",
              "    }\n",
              "\n",
              "    .dataframe tbody tr th {\n",
              "        vertical-align: top;\n",
              "    }\n",
              "\n",
              "    .dataframe thead th {\n",
              "        text-align: right;\n",
              "    }\n",
              "</style>\n",
              "<table border=\"1\" class=\"dataframe\">\n",
              "  <thead>\n",
              "    <tr style=\"text-align: right;\">\n",
              "      <th></th>\n",
              "      <th>volt_min</th>\n",
              "      <th>volt_max</th>\n",
              "      <th>volt_std</th>\n",
              "      <th>volt_mean</th>\n",
              "      <th>rotate_min</th>\n",
              "      <th>rotate_max</th>\n",
              "      <th>rotate_std</th>\n",
              "      <th>rotate_mean</th>\n",
              "      <th>pressure_min</th>\n",
              "      <th>pressure_max</th>\n",
              "      <th>...</th>\n",
              "      <th>error13</th>\n",
              "      <th>error23</th>\n",
              "      <th>error33</th>\n",
              "      <th>error43</th>\n",
              "      <th>error53</th>\n",
              "      <th>comp13</th>\n",
              "      <th>comp23</th>\n",
              "      <th>comp33</th>\n",
              "      <th>comp43</th>\n",
              "      <th>failure</th>\n",
              "    </tr>\n",
              "  </thead>\n",
              "  <tbody>\n",
              "    <tr>\n",
              "      <th>0</th>\n",
              "      <td>129.016707</td>\n",
              "      <td>215.656488</td>\n",
              "      <td>18.137433</td>\n",
              "      <td>172.306548</td>\n",
              "      <td>365.213804</td>\n",
              "      <td>520.582694</td>\n",
              "      <td>41.565146</td>\n",
              "      <td>443.474698</td>\n",
              "      <td>82.400818</td>\n",
              "      <td>118.853452</td>\n",
              "      <td>...</td>\n",
              "      <td>0.0</td>\n",
              "      <td>0.0</td>\n",
              "      <td>0.0</td>\n",
              "      <td>0.0</td>\n",
              "      <td>0.0</td>\n",
              "      <td>3.541667</td>\n",
              "      <td>3.541667</td>\n",
              "      <td>3.541667</td>\n",
              "      <td>3.541667</td>\n",
              "      <td>True</td>\n",
              "    </tr>\n",
              "    <tr>\n",
              "      <th>1</th>\n",
              "      <td>158.476091</td>\n",
              "      <td>216.930340</td>\n",
              "      <td>15.433975</td>\n",
              "      <td>189.281258</td>\n",
              "      <td>354.540120</td>\n",
              "      <td>506.733460</td>\n",
              "      <td>47.495033</td>\n",
              "      <td>437.524998</td>\n",
              "      <td>74.378060</td>\n",
              "      <td>115.511427</td>\n",
              "      <td>...</td>\n",
              "      <td>0.0</td>\n",
              "      <td>0.0</td>\n",
              "      <td>0.0</td>\n",
              "      <td>0.0</td>\n",
              "      <td>0.0</td>\n",
              "      <td>44.541667</td>\n",
              "      <td>63.541667</td>\n",
              "      <td>14.541667</td>\n",
              "      <td>29.541667</td>\n",
              "      <td>True</td>\n",
              "    </tr>\n",
              "    <tr>\n",
              "      <th>2</th>\n",
              "      <td>150.503649</td>\n",
              "      <td>201.731995</td>\n",
              "      <td>13.304016</td>\n",
              "      <td>173.429452</td>\n",
              "      <td>215.619476</td>\n",
              "      <td>489.502527</td>\n",
              "      <td>61.290206</td>\n",
              "      <td>372.903177</td>\n",
              "      <td>79.552597</td>\n",
              "      <td>121.827141</td>\n",
              "      <td>...</td>\n",
              "      <td>0.0</td>\n",
              "      <td>0.0</td>\n",
              "      <td>0.0</td>\n",
              "      <td>0.0</td>\n",
              "      <td>0.0</td>\n",
              "      <td>29.541667</td>\n",
              "      <td>108.541667</td>\n",
              "      <td>14.541667</td>\n",
              "      <td>74.541667</td>\n",
              "      <td>True</td>\n",
              "    </tr>\n",
              "    <tr>\n",
              "      <th>3</th>\n",
              "      <td>142.165191</td>\n",
              "      <td>198.380679</td>\n",
              "      <td>15.522807</td>\n",
              "      <td>171.752624</td>\n",
              "      <td>387.342414</td>\n",
              "      <td>590.323104</td>\n",
              "      <td>44.815089</td>\n",
              "      <td>457.237727</td>\n",
              "      <td>80.630055</td>\n",
              "      <td>136.553131</td>\n",
              "      <td>...</td>\n",
              "      <td>0.0</td>\n",
              "      <td>0.0</td>\n",
              "      <td>0.0</td>\n",
              "      <td>0.0</td>\n",
              "      <td>0.0</td>\n",
              "      <td>89.541667</td>\n",
              "      <td>29.541667</td>\n",
              "      <td>14.541667</td>\n",
              "      <td>134.541667</td>\n",
              "      <td>True</td>\n",
              "    </tr>\n",
              "    <tr>\n",
              "      <th>4</th>\n",
              "      <td>138.740244</td>\n",
              "      <td>196.427450</td>\n",
              "      <td>13.723886</td>\n",
              "      <td>169.202447</td>\n",
              "      <td>345.711420</td>\n",
              "      <td>549.741973</td>\n",
              "      <td>46.696763</td>\n",
              "      <td>450.423297</td>\n",
              "      <td>75.959631</td>\n",
              "      <td>121.728619</td>\n",
              "      <td>...</td>\n",
              "      <td>0.0</td>\n",
              "      <td>0.0</td>\n",
              "      <td>0.0</td>\n",
              "      <td>0.0</td>\n",
              "      <td>0.0</td>\n",
              "      <td>29.541667</td>\n",
              "      <td>59.541667</td>\n",
              "      <td>89.541667</td>\n",
              "      <td>74.541667</td>\n",
              "      <td>True</td>\n",
              "    </tr>\n",
              "  </tbody>\n",
              "</table>\n",
              "<p>5 rows × 51 columns</p>\n",
              "</div>\n",
              "      <button class=\"colab-df-convert\" onclick=\"convertToInteractive('df-e90ca7c6-e15c-424c-92aa-73ec5eade7fe')\"\n",
              "              title=\"Convert this dataframe to an interactive table.\"\n",
              "              style=\"display:none;\">\n",
              "        \n",
              "  <svg xmlns=\"http://www.w3.org/2000/svg\" height=\"24px\"viewBox=\"0 0 24 24\"\n",
              "       width=\"24px\">\n",
              "    <path d=\"M0 0h24v24H0V0z\" fill=\"none\"/>\n",
              "    <path d=\"M18.56 5.44l.94 2.06.94-2.06 2.06-.94-2.06-.94-.94-2.06-.94 2.06-2.06.94zm-11 1L8.5 8.5l.94-2.06 2.06-.94-2.06-.94L8.5 2.5l-.94 2.06-2.06.94zm10 10l.94 2.06.94-2.06 2.06-.94-2.06-.94-.94-2.06-.94 2.06-2.06.94z\"/><path d=\"M17.41 7.96l-1.37-1.37c-.4-.4-.92-.59-1.43-.59-.52 0-1.04.2-1.43.59L10.3 9.45l-7.72 7.72c-.78.78-.78 2.05 0 2.83L4 21.41c.39.39.9.59 1.41.59.51 0 1.02-.2 1.41-.59l7.78-7.78 2.81-2.81c.8-.78.8-2.07 0-2.86zM5.41 20L4 18.59l7.72-7.72 1.47 1.35L5.41 20z\"/>\n",
              "  </svg>\n",
              "      </button>\n",
              "      \n",
              "  <style>\n",
              "    .colab-df-container {\n",
              "      display:flex;\n",
              "      flex-wrap:wrap;\n",
              "      gap: 12px;\n",
              "    }\n",
              "\n",
              "    .colab-df-convert {\n",
              "      background-color: #E8F0FE;\n",
              "      border: none;\n",
              "      border-radius: 50%;\n",
              "      cursor: pointer;\n",
              "      display: none;\n",
              "      fill: #1967D2;\n",
              "      height: 32px;\n",
              "      padding: 0 0 0 0;\n",
              "      width: 32px;\n",
              "    }\n",
              "\n",
              "    .colab-df-convert:hover {\n",
              "      background-color: #E2EBFA;\n",
              "      box-shadow: 0px 1px 2px rgba(60, 64, 67, 0.3), 0px 1px 3px 1px rgba(60, 64, 67, 0.15);\n",
              "      fill: #174EA6;\n",
              "    }\n",
              "\n",
              "    [theme=dark] .colab-df-convert {\n",
              "      background-color: #3B4455;\n",
              "      fill: #D2E3FC;\n",
              "    }\n",
              "\n",
              "    [theme=dark] .colab-df-convert:hover {\n",
              "      background-color: #434B5C;\n",
              "      box-shadow: 0px 1px 3px 1px rgba(0, 0, 0, 0.15);\n",
              "      filter: drop-shadow(0px 1px 2px rgba(0, 0, 0, 0.3));\n",
              "      fill: #FFFFFF;\n",
              "    }\n",
              "  </style>\n",
              "\n",
              "      <script>\n",
              "        const buttonEl =\n",
              "          document.querySelector('#df-e90ca7c6-e15c-424c-92aa-73ec5eade7fe button.colab-df-convert');\n",
              "        buttonEl.style.display =\n",
              "          google.colab.kernel.accessAllowed ? 'block' : 'none';\n",
              "\n",
              "        async function convertToInteractive(key) {\n",
              "          const element = document.querySelector('#df-e90ca7c6-e15c-424c-92aa-73ec5eade7fe');\n",
              "          const dataTable =\n",
              "            await google.colab.kernel.invokeFunction('convertToInteractive',\n",
              "                                                     [key], {});\n",
              "          if (!dataTable) return;\n",
              "\n",
              "          const docLinkHtml = 'Like what you see? Visit the ' +\n",
              "            '<a target=\"_blank\" href=https://colab.research.google.com/notebooks/data_table.ipynb>data table notebook</a>'\n",
              "            + ' to learn more about interactive tables.';\n",
              "          element.innerHTML = '';\n",
              "          dataTable['output_type'] = 'display_data';\n",
              "          await google.colab.output.renderOutput(dataTable, element);\n",
              "          const docLink = document.createElement('div');\n",
              "          docLink.innerHTML = docLinkHtml;\n",
              "          element.appendChild(docLink);\n",
              "        }\n",
              "      </script>\n",
              "    </div>\n",
              "  </div>\n",
              "  "
            ]
          },
          "metadata": {},
          "execution_count": 12
        }
      ],
      "source": [
        "print(failures_stats_df.shape)\n",
        "\n",
        "failures_stats_df.head()"
      ]
    },
    {
      "cell_type": "markdown",
      "metadata": {
        "id": "LHZzAjWBC1Sr"
      },
      "source": [
        "###Create DataFrame with normal functioning machinery data"
      ]
    },
    {
      "cell_type": "code",
      "execution_count": null,
      "metadata": {
        "id": "tskizbPJgOUH"
      },
      "outputs": [],
      "source": [
        "failure_indexes_plus = []\n",
        "for f in failure_indexes:\n",
        "  failure_indexes_plus.extend(np.arange(f-36,f+1))\n"
      ]
    },
    {
      "cell_type": "code",
      "execution_count": null,
      "metadata": {
        "id": "BOhldMipC5oq"
      },
      "outputs": [],
      "source": [
        "normal_indexes = master_df.drop(failure_indexes_plus).sample(30000, random_state=8).index"
      ]
    },
    {
      "cell_type": "code",
      "execution_count": null,
      "metadata": {
        "colab": {
          "base_uri": "https://localhost:8080/"
        },
        "id": "WcNNA7S5DjNs",
        "outputId": "e27ea6d5-326d-4e71-ce7c-43acc93b8967"
      },
      "outputs": [
        {
          "output_type": "stream",
          "name": "stdout",
          "text": [
            "The DataFrame does not contain 24 hours of continuous data at index 447286\n",
            "The DataFrame does not contain 24 hours of continuous data at index 799915\n",
            "This DataFrame consists of data across different machines at index 306660 for 24 hours of lag\n",
            "The DataFrame does not contain 24 hours of continuous data at index 822559\n",
            "The DataFrame does not contain 24 hours of continuous data at index 107547\n",
            "This DataFrame consists of data across different machines at index 481893 for 24 hours of lag\n",
            "This DataFrame consists of data across different machines at index 148963 for 24 hours of lag\n",
            "This DataFrame consists of data across different machines at index 473142 for 24 hours of lag\n",
            "This DataFrame consists of data across different machines at index 175252 for 24 hours of lag\n",
            "The DataFrame does not contain 24 hours of continuous data at index 768075\n",
            "This DataFrame consists of data across different machines at index 841095 for 24 hours of lag\n",
            "This DataFrame consists of data across different machines at index 560734 for 24 hours of lag\n",
            "This DataFrame consists of data across different machines at index 587031 for 24 hours of lag\n",
            "This DataFrame consists of data across different machines at index 473125 for 24 hours of lag\n",
            "The DataFrame does not contain 24 hours of continuous data at index 180448\n",
            "The DataFrame does not contain 24 hours of continuous data at index 822543\n",
            "This DataFrame consists of data across different machines at index 192764 for 24 hours of lag\n",
            "This DataFrame consists of data across different machines at index 87614 for 24 hours of lag\n",
            "This DataFrame consists of data across different machines at index 35056 for 24 hours of lag\n",
            "This DataFrame consists of data across different machines at index 315442 for 24 hours of lag\n",
            "This DataFrame consists of data across different machines at index 630841 for 24 hours of lag\n",
            "This DataFrame consists of data across different machines at index 280383 for 24 hours of lag\n",
            "This DataFrame consists of data across different machines at index 236581 for 24 hours of lag\n",
            "This DataFrame consists of data across different machines at index 192759 for 24 hours of lag\n",
            "This DataFrame consists of data across different machines at index 219054 for 24 hours of lag\n",
            "This DataFrame consists of data across different machines at index 473141 for 24 hours of lag\n",
            "This DataFrame consists of data across different machines at index 587034 for 24 hours of lag\n",
            "This DataFrame consists of data across different machines at index 709689 for 24 hours of lag\n",
            "This DataFrame consists of data across different machines at index 306661 for 24 hours of lag\n",
            "This DataFrame consists of data across different machines at index 403047 for 24 hours of lag\n",
            "This DataFrame consists of data across different machines at index 140204 for 24 hours of lag\n",
            "This DataFrame consists of data across different machines at index 148952 for 24 hours of lag\n",
            "This DataFrame consists of data across different machines at index 105142 for 24 hours of lag\n",
            "This DataFrame consists of data across different machines at index 201534 for 24 hours of lag\n",
            "The DataFrame does not contain 24 hours of continuous data at index 454111\n",
            "This DataFrame consists of data across different machines at index 823575 for 24 hours of lag\n",
            "This DataFrame consists of data across different machines at index 622066 for 24 hours of lag\n",
            "The DataFrame does not contain 24 hours of continuous data at index 822545\n",
            "The DataFrame does not contain 24 hours of continuous data at index 799912\n",
            "The DataFrame does not contain 24 hours of continuous data at index 10610\n",
            "The DataFrame does not contain 24 hours of continuous data at index 723135\n",
            "The DataFrame does not contain 24 hours of continuous data at index 90237\n",
            "This DataFrame consists of data across different machines at index 849875 for 24 hours of lag\n",
            "This DataFrame consists of data across different machines at index 508180 for 24 hours of lag\n",
            "The DataFrame does not contain 24 hours of continuous data at index 768096\n",
            "The DataFrame does not contain 24 hours of continuous data at index 566135\n",
            "The DataFrame does not contain 24 hours of continuous data at index 110783\n",
            "The DataFrame does not contain 24 hours of continuous data at index 785281\n",
            "The DataFrame does not contain 24 hours of continuous data at index 852716\n",
            "This DataFrame consists of data across different machines at index 148968 for 24 hours of lag\n",
            "This DataFrame consists of data across different machines at index 438093 for 24 hours of lag\n",
            "The DataFrame does not contain 24 hours of continuous data at index 447283\n",
            "The DataFrame does not contain 24 hours of continuous data at index 304157\n",
            "This DataFrame consists of data across different machines at index 96394 for 24 hours of lag\n",
            "This DataFrame consists of data across different machines at index 832352 for 24 hours of lag\n",
            "The DataFrame does not contain 24 hours of continuous data at index 488323\n",
            "This DataFrame consists of data across different machines at index 578266 for 24 hours of lag\n",
            "This DataFrame consists of data across different machines at index 657111 for 24 hours of lag\n",
            "The DataFrame does not contain 24 hours of continuous data at index 180462\n",
            "This DataFrame consists of data across different machines at index 245334 for 24 hours of lag\n",
            "This DataFrame consists of data across different machines at index 403036 for 24 hours of lag\n",
            "This DataFrame consists of data across different machines at index 350475 for 24 hours of lag\n",
            "This DataFrame consists of data across different machines at index 175238 for 24 hours of lag\n",
            "This DataFrame consists of data across different machines at index 779767 for 24 hours of lag\n",
            "This DataFrame consists of data across different machines at index 359234 for 24 hours of lag\n",
            "This DataFrame consists of data across different machines at index 227811 for 24 hours of lag\n",
            "This DataFrame consists of data across different machines at index 210301 for 24 hours of lag\n",
            "This DataFrame consists of data across different machines at index 613307 for 24 hours of lag\n",
            "The DataFrame does not contain 24 hours of continuous data at index 187393\n",
            "The DataFrame does not contain 24 hours of continuous data at index 185961\n",
            "This DataFrame consists of data across different machines at index 227804 for 24 hours of lag\n",
            "This DataFrame consists of data across different machines at index 271633 for 24 hours of lag\n",
            "This DataFrame consists of data across different machines at index 849865 for 24 hours of lag\n",
            "This DataFrame consists of data across different machines at index 473135 for 24 hours of lag\n",
            "This DataFrame consists of data across different machines at index 26290 for 24 hours of lag\n",
            "This DataFrame consists of data across different machines at index 43823 for 24 hours of lag\n",
            "The DataFrame does not contain 24 hours of continuous data at index 123131\n",
            "This DataFrame consists of data across different machines at index 849864 for 24 hours of lag\n",
            "This DataFrame consists of data across different machines at index 43809 for 24 hours of lag\n",
            "This DataFrame consists of data across different machines at index 227817 for 24 hours of lag\n",
            "This DataFrame consists of data across different machines at index 788538 for 24 hours of lag\n",
            "This DataFrame consists of data across different machines at index 534471 for 24 hours of lag\n",
            "This DataFrame consists of data across different machines at index 78869 for 24 hours of lag\n",
            "This DataFrame consists of data across different machines at index 692167 for 24 hours of lag\n",
            "This DataFrame consists of data across different machines at index 587036 for 24 hours of lag\n",
            "The DataFrame does not contain 24 hours of continuous data at index 799910\n",
            "This DataFrame consists of data across different machines at index 841108 for 24 hours of lag\n",
            "This DataFrame consists of data across different machines at index 420567 for 24 hours of lag\n",
            "This DataFrame consists of data across different machines at index 832349 for 24 hours of lag\n",
            "This DataFrame consists of data across different machines at index 543222 for 24 hours of lag\n",
            "This DataFrame consists of data across different machines at index 648349 for 24 hours of lag\n",
            "This DataFrame consists of data across different machines at index 289152 for 24 hours of lag\n",
            "This DataFrame consists of data across different machines at index 525708 for 24 hours of lag\n",
            "The DataFrame does not contain 24 hours of continuous data at index 566145\n",
            "This DataFrame consists of data across different machines at index 569497 for 24 hours of lag\n",
            "This DataFrame consists of data across different machines at index 26284 for 24 hours of lag\n",
            "This DataFrame consists of data across different machines at index 262872 for 24 hours of lag\n",
            "This DataFrame consists of data across different machines at index 525689 for 24 hours of lag\n",
            "The DataFrame does not contain 24 hours of continuous data at index 147395\n",
            "This DataFrame consists of data across different machines at index 551973 for 24 hours of lag\n",
            "This DataFrame consists of data across different machines at index 525707 for 24 hours of lag\n",
            "The DataFrame does not contain 24 hours of continuous data at index 113678\n",
            "This DataFrame consists of data across different machines at index 289144 for 24 hours of lag\n",
            "This DataFrame consists of data across different machines at index 446854 for 24 hours of lag\n",
            "This DataFrame consists of data across different machines at index 297913 for 24 hours of lag\n",
            "This DataFrame consists of data across different machines at index 867395 for 24 hours of lag\n",
            "The DataFrame does not contain 24 hours of continuous data at index 259328\n"
          ]
        }
      ],
      "source": [
        "normal_stats = []\n",
        "\n",
        "for n in normal_indexes:\n",
        "  try:\n",
        "    temp_ls = get_stats(master_df, n-predict_ahead, lag_length)\n",
        "    temp_ls.extend(get_stats(master_df, n-predict_ahead, lag_length_short))\n",
        "    normal_stats.append(temp_ls)\n",
        "  except Exception as e:\n",
        "    print(e)"
      ]
    },
    {
      "cell_type": "code",
      "execution_count": null,
      "metadata": {
        "id": "HV9AGudgEQ4F"
      },
      "outputs": [],
      "source": [
        "normal_stats_df = pd.DataFrame(normal_stats, columns = col_titles)\n",
        "\n",
        "normal_stats_df['failure'] = False"
      ]
    },
    {
      "cell_type": "code",
      "execution_count": null,
      "metadata": {
        "colab": {
          "base_uri": "https://localhost:8080/"
        },
        "id": "qEicT0uPEhhK",
        "outputId": "734a634e-b0ce-40e6-8a6e-b7dcc420b41b"
      },
      "outputs": [
        {
          "output_type": "stream",
          "name": "stdout",
          "text": [
            "(29893, 51)\n"
          ]
        }
      ],
      "source": [
        "print(normal_stats_df.shape)"
      ]
    },
    {
      "cell_type": "markdown",
      "metadata": {
        "id": "ifmXuTn4IZ3V"
      },
      "source": [
        "###Combine DataFrames"
      ]
    },
    {
      "cell_type": "code",
      "execution_count": null,
      "metadata": {
        "id": "HRjsNsv8IduG"
      },
      "outputs": [],
      "source": [
        "master_stats_df = pd.concat([failures_stats_df, normal_stats_df], ignore_index=True)"
      ]
    },
    {
      "cell_type": "code",
      "execution_count": null,
      "metadata": {
        "colab": {
          "base_uri": "https://localhost:8080/",
          "height": 299
        },
        "id": "6aAGcYD2JAWC",
        "outputId": "71cd77ae-6d3a-421a-8998-c45077fbebf3"
      },
      "outputs": [
        {
          "output_type": "execute_result",
          "data": {
            "text/plain": [
              "         volt_min    volt_max   volt_std   volt_mean  rotate_min  rotate_max  \\\n",
              "23049  144.377403  176.763389  10.247694  163.455458  369.183978  522.124162   \n",
              "6288   141.878350  201.632637  15.495401  169.141691  379.304880  509.468594   \n",
              "569    167.385308  218.057248  12.877112  195.312235  379.894186  538.412519   \n",
              "7697   130.413218  197.852963  16.131901  165.327661  303.453623  542.124865   \n",
              "760    147.786259  191.609297  12.934729  168.541732  303.836524  571.925739   \n",
              "\n",
              "       rotate_std  rotate_mean  pressure_min  pressure_max  ...  error13  \\\n",
              "23049   44.631546   446.221390     77.501473    118.873390  ...      0.0   \n",
              "6288    33.733427   440.694909     91.524717    138.293561  ...      0.0   \n",
              "569     37.953315   460.515633     84.886107    121.011716  ...      0.0   \n",
              "7697    51.421387   446.829983     83.904587    116.958301  ...      0.0   \n",
              "760     57.251056   440.058879     77.324460    120.202143  ...      0.0   \n",
              "\n",
              "       error23  error33  error43  error53     comp13     comp23     comp33  \\\n",
              "23049      0.0      0.0      0.0      0.0   9.291667  99.291667  84.291667   \n",
              "6288       0.0      0.0      0.0      0.0  60.125000  75.125000   0.125000   \n",
              "569        0.0      0.0      0.0      0.0  44.541667  29.541667  44.541667   \n",
              "7697       0.0      0.0      0.0      0.0  27.125000  12.125000  87.125000   \n",
              "760        0.0      0.0      0.0      0.0  18.125000  33.125000  33.125000   \n",
              "\n",
              "          comp43  failure  \n",
              "23049  39.291667    False  \n",
              "6288   15.125000    False  \n",
              "569    45.541667     True  \n",
              "7697   87.125000    False  \n",
              "760     3.125000    False  \n",
              "\n",
              "[5 rows x 51 columns]"
            ],
            "text/html": [
              "\n",
              "  <div id=\"df-d0fb81ff-4fc8-4e5f-b17b-96d7d04191af\">\n",
              "    <div class=\"colab-df-container\">\n",
              "      <div>\n",
              "<style scoped>\n",
              "    .dataframe tbody tr th:only-of-type {\n",
              "        vertical-align: middle;\n",
              "    }\n",
              "\n",
              "    .dataframe tbody tr th {\n",
              "        vertical-align: top;\n",
              "    }\n",
              "\n",
              "    .dataframe thead th {\n",
              "        text-align: right;\n",
              "    }\n",
              "</style>\n",
              "<table border=\"1\" class=\"dataframe\">\n",
              "  <thead>\n",
              "    <tr style=\"text-align: right;\">\n",
              "      <th></th>\n",
              "      <th>volt_min</th>\n",
              "      <th>volt_max</th>\n",
              "      <th>volt_std</th>\n",
              "      <th>volt_mean</th>\n",
              "      <th>rotate_min</th>\n",
              "      <th>rotate_max</th>\n",
              "      <th>rotate_std</th>\n",
              "      <th>rotate_mean</th>\n",
              "      <th>pressure_min</th>\n",
              "      <th>pressure_max</th>\n",
              "      <th>...</th>\n",
              "      <th>error13</th>\n",
              "      <th>error23</th>\n",
              "      <th>error33</th>\n",
              "      <th>error43</th>\n",
              "      <th>error53</th>\n",
              "      <th>comp13</th>\n",
              "      <th>comp23</th>\n",
              "      <th>comp33</th>\n",
              "      <th>comp43</th>\n",
              "      <th>failure</th>\n",
              "    </tr>\n",
              "  </thead>\n",
              "  <tbody>\n",
              "    <tr>\n",
              "      <th>23049</th>\n",
              "      <td>144.377403</td>\n",
              "      <td>176.763389</td>\n",
              "      <td>10.247694</td>\n",
              "      <td>163.455458</td>\n",
              "      <td>369.183978</td>\n",
              "      <td>522.124162</td>\n",
              "      <td>44.631546</td>\n",
              "      <td>446.221390</td>\n",
              "      <td>77.501473</td>\n",
              "      <td>118.873390</td>\n",
              "      <td>...</td>\n",
              "      <td>0.0</td>\n",
              "      <td>0.0</td>\n",
              "      <td>0.0</td>\n",
              "      <td>0.0</td>\n",
              "      <td>0.0</td>\n",
              "      <td>9.291667</td>\n",
              "      <td>99.291667</td>\n",
              "      <td>84.291667</td>\n",
              "      <td>39.291667</td>\n",
              "      <td>False</td>\n",
              "    </tr>\n",
              "    <tr>\n",
              "      <th>6288</th>\n",
              "      <td>141.878350</td>\n",
              "      <td>201.632637</td>\n",
              "      <td>15.495401</td>\n",
              "      <td>169.141691</td>\n",
              "      <td>379.304880</td>\n",
              "      <td>509.468594</td>\n",
              "      <td>33.733427</td>\n",
              "      <td>440.694909</td>\n",
              "      <td>91.524717</td>\n",
              "      <td>138.293561</td>\n",
              "      <td>...</td>\n",
              "      <td>0.0</td>\n",
              "      <td>0.0</td>\n",
              "      <td>0.0</td>\n",
              "      <td>0.0</td>\n",
              "      <td>0.0</td>\n",
              "      <td>60.125000</td>\n",
              "      <td>75.125000</td>\n",
              "      <td>0.125000</td>\n",
              "      <td>15.125000</td>\n",
              "      <td>False</td>\n",
              "    </tr>\n",
              "    <tr>\n",
              "      <th>569</th>\n",
              "      <td>167.385308</td>\n",
              "      <td>218.057248</td>\n",
              "      <td>12.877112</td>\n",
              "      <td>195.312235</td>\n",
              "      <td>379.894186</td>\n",
              "      <td>538.412519</td>\n",
              "      <td>37.953315</td>\n",
              "      <td>460.515633</td>\n",
              "      <td>84.886107</td>\n",
              "      <td>121.011716</td>\n",
              "      <td>...</td>\n",
              "      <td>0.0</td>\n",
              "      <td>0.0</td>\n",
              "      <td>0.0</td>\n",
              "      <td>0.0</td>\n",
              "      <td>0.0</td>\n",
              "      <td>44.541667</td>\n",
              "      <td>29.541667</td>\n",
              "      <td>44.541667</td>\n",
              "      <td>45.541667</td>\n",
              "      <td>True</td>\n",
              "    </tr>\n",
              "    <tr>\n",
              "      <th>7697</th>\n",
              "      <td>130.413218</td>\n",
              "      <td>197.852963</td>\n",
              "      <td>16.131901</td>\n",
              "      <td>165.327661</td>\n",
              "      <td>303.453623</td>\n",
              "      <td>542.124865</td>\n",
              "      <td>51.421387</td>\n",
              "      <td>446.829983</td>\n",
              "      <td>83.904587</td>\n",
              "      <td>116.958301</td>\n",
              "      <td>...</td>\n",
              "      <td>0.0</td>\n",
              "      <td>0.0</td>\n",
              "      <td>0.0</td>\n",
              "      <td>0.0</td>\n",
              "      <td>0.0</td>\n",
              "      <td>27.125000</td>\n",
              "      <td>12.125000</td>\n",
              "      <td>87.125000</td>\n",
              "      <td>87.125000</td>\n",
              "      <td>False</td>\n",
              "    </tr>\n",
              "    <tr>\n",
              "      <th>760</th>\n",
              "      <td>147.786259</td>\n",
              "      <td>191.609297</td>\n",
              "      <td>12.934729</td>\n",
              "      <td>168.541732</td>\n",
              "      <td>303.836524</td>\n",
              "      <td>571.925739</td>\n",
              "      <td>57.251056</td>\n",
              "      <td>440.058879</td>\n",
              "      <td>77.324460</td>\n",
              "      <td>120.202143</td>\n",
              "      <td>...</td>\n",
              "      <td>0.0</td>\n",
              "      <td>0.0</td>\n",
              "      <td>0.0</td>\n",
              "      <td>0.0</td>\n",
              "      <td>0.0</td>\n",
              "      <td>18.125000</td>\n",
              "      <td>33.125000</td>\n",
              "      <td>33.125000</td>\n",
              "      <td>3.125000</td>\n",
              "      <td>False</td>\n",
              "    </tr>\n",
              "  </tbody>\n",
              "</table>\n",
              "<p>5 rows × 51 columns</p>\n",
              "</div>\n",
              "      <button class=\"colab-df-convert\" onclick=\"convertToInteractive('df-d0fb81ff-4fc8-4e5f-b17b-96d7d04191af')\"\n",
              "              title=\"Convert this dataframe to an interactive table.\"\n",
              "              style=\"display:none;\">\n",
              "        \n",
              "  <svg xmlns=\"http://www.w3.org/2000/svg\" height=\"24px\"viewBox=\"0 0 24 24\"\n",
              "       width=\"24px\">\n",
              "    <path d=\"M0 0h24v24H0V0z\" fill=\"none\"/>\n",
              "    <path d=\"M18.56 5.44l.94 2.06.94-2.06 2.06-.94-2.06-.94-.94-2.06-.94 2.06-2.06.94zm-11 1L8.5 8.5l.94-2.06 2.06-.94-2.06-.94L8.5 2.5l-.94 2.06-2.06.94zm10 10l.94 2.06.94-2.06 2.06-.94-2.06-.94-.94-2.06-.94 2.06-2.06.94z\"/><path d=\"M17.41 7.96l-1.37-1.37c-.4-.4-.92-.59-1.43-.59-.52 0-1.04.2-1.43.59L10.3 9.45l-7.72 7.72c-.78.78-.78 2.05 0 2.83L4 21.41c.39.39.9.59 1.41.59.51 0 1.02-.2 1.41-.59l7.78-7.78 2.81-2.81c.8-.78.8-2.07 0-2.86zM5.41 20L4 18.59l7.72-7.72 1.47 1.35L5.41 20z\"/>\n",
              "  </svg>\n",
              "      </button>\n",
              "      \n",
              "  <style>\n",
              "    .colab-df-container {\n",
              "      display:flex;\n",
              "      flex-wrap:wrap;\n",
              "      gap: 12px;\n",
              "    }\n",
              "\n",
              "    .colab-df-convert {\n",
              "      background-color: #E8F0FE;\n",
              "      border: none;\n",
              "      border-radius: 50%;\n",
              "      cursor: pointer;\n",
              "      display: none;\n",
              "      fill: #1967D2;\n",
              "      height: 32px;\n",
              "      padding: 0 0 0 0;\n",
              "      width: 32px;\n",
              "    }\n",
              "\n",
              "    .colab-df-convert:hover {\n",
              "      background-color: #E2EBFA;\n",
              "      box-shadow: 0px 1px 2px rgba(60, 64, 67, 0.3), 0px 1px 3px 1px rgba(60, 64, 67, 0.15);\n",
              "      fill: #174EA6;\n",
              "    }\n",
              "\n",
              "    [theme=dark] .colab-df-convert {\n",
              "      background-color: #3B4455;\n",
              "      fill: #D2E3FC;\n",
              "    }\n",
              "\n",
              "    [theme=dark] .colab-df-convert:hover {\n",
              "      background-color: #434B5C;\n",
              "      box-shadow: 0px 1px 3px 1px rgba(0, 0, 0, 0.15);\n",
              "      filter: drop-shadow(0px 1px 2px rgba(0, 0, 0, 0.3));\n",
              "      fill: #FFFFFF;\n",
              "    }\n",
              "  </style>\n",
              "\n",
              "      <script>\n",
              "        const buttonEl =\n",
              "          document.querySelector('#df-d0fb81ff-4fc8-4e5f-b17b-96d7d04191af button.colab-df-convert');\n",
              "        buttonEl.style.display =\n",
              "          google.colab.kernel.accessAllowed ? 'block' : 'none';\n",
              "\n",
              "        async function convertToInteractive(key) {\n",
              "          const element = document.querySelector('#df-d0fb81ff-4fc8-4e5f-b17b-96d7d04191af');\n",
              "          const dataTable =\n",
              "            await google.colab.kernel.invokeFunction('convertToInteractive',\n",
              "                                                     [key], {});\n",
              "          if (!dataTable) return;\n",
              "\n",
              "          const docLinkHtml = 'Like what you see? Visit the ' +\n",
              "            '<a target=\"_blank\" href=https://colab.research.google.com/notebooks/data_table.ipynb>data table notebook</a>'\n",
              "            + ' to learn more about interactive tables.';\n",
              "          element.innerHTML = '';\n",
              "          dataTable['output_type'] = 'display_data';\n",
              "          await google.colab.output.renderOutput(dataTable, element);\n",
              "          const docLink = document.createElement('div');\n",
              "          docLink.innerHTML = docLinkHtml;\n",
              "          element.appendChild(docLink);\n",
              "        }\n",
              "      </script>\n",
              "    </div>\n",
              "  </div>\n",
              "  "
            ]
          },
          "metadata": {},
          "execution_count": 20
        }
      ],
      "source": [
        "#shuffle around DataFrame\n",
        "master_stats_df = master_stats_df.sample(len(master_stats_df), random_state=8)\n",
        "\n",
        "master_stats_df.head()"
      ]
    },
    {
      "cell_type": "markdown",
      "metadata": {
        "id": "odySh_LkfqIh"
      },
      "source": [
        "##Machine Learning Time"
      ]
    },
    {
      "cell_type": "markdown",
      "metadata": {
        "id": "PPdEzQWFfZdE"
      },
      "source": [
        "###Split data into train, validate, test"
      ]
    },
    {
      "cell_type": "code",
      "execution_count": null,
      "metadata": {
        "id": "Jb6Wg1MdX0Ss"
      },
      "outputs": [],
      "source": [
        "np.random.seed(8)"
      ]
    },
    {
      "cell_type": "code",
      "execution_count": null,
      "metadata": {
        "id": "BoFgPSQWKqXp"
      },
      "outputs": [],
      "source": [
        "split_mask = np.random.rand(len(master_stats_df)) < 0.7\n",
        "\n",
        "x_df = master_stats_df.drop(['failure'], axis=1)\n",
        "y_df = master_stats_df['failure']\n",
        "\n",
        "x_train = x_df[split_mask]\n",
        "y_train = y_df[split_mask]\n",
        "\n",
        "x_test_validation = x_df[~split_mask]\n",
        "y_test_validation = y_df[~split_mask]\n",
        "\n",
        "split_mask = np.random.rand(len(x_test_validation)) < 0.5\n",
        "x_validation = x_test_validation[split_mask]\n",
        "y_validation = y_test_validation[split_mask]\n",
        "\n",
        "x_test = x_test_validation[~split_mask]\n",
        "y_test = y_test_validation[~split_mask]"
      ]
    },
    {
      "cell_type": "markdown",
      "metadata": {
        "id": "yoknPF7u59gW"
      },
      "source": [
        "###Fine Tune"
      ]
    },
    {
      "cell_type": "code",
      "execution_count": null,
      "metadata": {
        "id": "9CexWfea7D26"
      },
      "outputs": [],
      "source": [
        "fine_model = XGBClassifier(\n",
        "    objective='binary:logistic',\n",
        "    tree_method='gpu_hist',\n",
        "    seed=8\n",
        "    )"
      ]
    },
    {
      "cell_type": "code",
      "source": [
        "parameters = {\n",
        "    'max_depth': [2,4,8,12],            #depth of trees\n",
        "    'n_estimators': [100,200,300,400],  #number of trees\n",
        "    'learning_rate': [.08,.1,.15,.2]\n",
        "}"
      ],
      "metadata": {
        "id": "QzY5B-vEC0cD"
      },
      "execution_count": null,
      "outputs": []
    },
    {
      "cell_type": "code",
      "execution_count": null,
      "metadata": {
        "id": "UQn7N6Pv68r0"
      },
      "outputs": [],
      "source": [
        "#scoring options: 'roc_auc', 'f1'\n",
        "\n",
        "#n_jobs 1 took for 3m 27s 15 fits\n",
        "#n_jobs 4 took for 3m 0s 15 fits\n",
        "#n_jobs -1 took for 2m 40s 15 fits\n",
        "\n",
        "#n_jobs -1 Fitting 192 fits took 35m 13s\n",
        "\n",
        "grid_search = GridSearchCV(\n",
        "    estimator = fine_model,\n",
        "    param_grid = parameters,\n",
        "    scoring = 'f1',\n",
        "    n_jobs = -1,\n",
        "    cv = 3,\n",
        "    verbose = 1\n",
        ")"
      ]
    },
    {
      "cell_type": "code",
      "execution_count": null,
      "metadata": {
        "colab": {
          "base_uri": "https://localhost:8080/"
        },
        "id": "_lFM1kuK7sIS",
        "outputId": "672170db-464a-4eae-e195-e400ac257a70"
      },
      "outputs": [
        {
          "output_type": "stream",
          "name": "stdout",
          "text": [
            "Fitting 3 folds for each of 64 candidates, totalling 192 fits\n"
          ]
        },
        {
          "output_type": "execute_result",
          "data": {
            "text/plain": [
              "GridSearchCV(cv=3, estimator=XGBClassifier(seed=8, tree_method='gpu_hist'),\n",
              "             n_jobs=-1,\n",
              "             param_grid={'learning_rate': [0.08, 0.1, 0.15, 0.2],\n",
              "                         'max_depth': [2, 4, 8, 12],\n",
              "                         'n_estimators': [100, 200, 300, 400]},\n",
              "             scoring='f1', verbose=1)"
            ]
          },
          "metadata": {},
          "execution_count": 53
        }
      ],
      "source": [
        "grid_search.fit(x_df, y_df)"
      ]
    },
    {
      "cell_type": "code",
      "execution_count": null,
      "metadata": {
        "colab": {
          "base_uri": "https://localhost:8080/"
        },
        "id": "av1jETHkbFK9",
        "outputId": "cd4e1452-d553-42f4-a73e-386e80edecc9"
      },
      "outputs": [
        {
          "output_type": "execute_result",
          "data": {
            "text/plain": [
              "{'learning_rate': 0.08, 'max_depth': 4, 'n_estimators': 300}"
            ]
          },
          "metadata": {},
          "execution_count": 54
        }
      ],
      "source": [
        "grid_search.best_params_"
      ]
    },
    {
      "cell_type": "markdown",
      "metadata": {
        "id": "IzXIcsRbfdyW"
      },
      "source": [
        "###Create model\n",
        "\n",
        "use logloss, aucpr, and error for eval_metrics"
      ]
    },
    {
      "cell_type": "code",
      "execution_count": null,
      "metadata": {
        "colab": {
          "base_uri": "https://localhost:8080/"
        },
        "id": "2aMncn1uLOho",
        "outputId": "9be2026d-d53b-40e5-89d9-1dd481a19add"
      },
      "outputs": [
        {
          "output_type": "stream",
          "name": "stdout",
          "text": [
            "[0]\tvalidation_0-aucpr:0.708548\n",
            "Will train until validation_0-aucpr hasn't improved in 10 rounds.\n",
            "[1]\tvalidation_0-aucpr:0.739018\n",
            "[2]\tvalidation_0-aucpr:0.771629\n",
            "[3]\tvalidation_0-aucpr:0.773361\n",
            "[4]\tvalidation_0-aucpr:0.77505\n",
            "[5]\tvalidation_0-aucpr:0.780181\n",
            "[6]\tvalidation_0-aucpr:0.79967\n",
            "[7]\tvalidation_0-aucpr:0.804175\n",
            "[8]\tvalidation_0-aucpr:0.808363\n",
            "[9]\tvalidation_0-aucpr:0.797812\n",
            "[10]\tvalidation_0-aucpr:0.801124\n",
            "[11]\tvalidation_0-aucpr:0.819614\n",
            "[12]\tvalidation_0-aucpr:0.827291\n",
            "[13]\tvalidation_0-aucpr:0.836139\n",
            "[14]\tvalidation_0-aucpr:0.84426\n",
            "[15]\tvalidation_0-aucpr:0.848549\n",
            "[16]\tvalidation_0-aucpr:0.850935\n",
            "[17]\tvalidation_0-aucpr:0.854848\n",
            "[18]\tvalidation_0-aucpr:0.860372\n",
            "[19]\tvalidation_0-aucpr:0.864478\n",
            "[20]\tvalidation_0-aucpr:0.865522\n",
            "[21]\tvalidation_0-aucpr:0.869574\n",
            "[22]\tvalidation_0-aucpr:0.873047\n",
            "[23]\tvalidation_0-aucpr:0.876933\n",
            "[24]\tvalidation_0-aucpr:0.877094\n",
            "[25]\tvalidation_0-aucpr:0.876669\n",
            "[26]\tvalidation_0-aucpr:0.883993\n",
            "[27]\tvalidation_0-aucpr:0.88736\n",
            "[28]\tvalidation_0-aucpr:0.885184\n",
            "[29]\tvalidation_0-aucpr:0.881966\n",
            "[30]\tvalidation_0-aucpr:0.8834\n",
            "[31]\tvalidation_0-aucpr:0.88597\n",
            "[32]\tvalidation_0-aucpr:0.886017\n",
            "[33]\tvalidation_0-aucpr:0.886224\n",
            "[34]\tvalidation_0-aucpr:0.885409\n",
            "[35]\tvalidation_0-aucpr:0.886972\n",
            "[36]\tvalidation_0-aucpr:0.886895\n",
            "[37]\tvalidation_0-aucpr:0.890501\n",
            "[38]\tvalidation_0-aucpr:0.891936\n",
            "[39]\tvalidation_0-aucpr:0.894023\n",
            "[40]\tvalidation_0-aucpr:0.892859\n",
            "[41]\tvalidation_0-aucpr:0.892311\n",
            "[42]\tvalidation_0-aucpr:0.895478\n",
            "[43]\tvalidation_0-aucpr:0.896791\n",
            "[44]\tvalidation_0-aucpr:0.896664\n",
            "[45]\tvalidation_0-aucpr:0.899788\n",
            "[46]\tvalidation_0-aucpr:0.898013\n",
            "[47]\tvalidation_0-aucpr:0.896073\n",
            "[48]\tvalidation_0-aucpr:0.897573\n",
            "[49]\tvalidation_0-aucpr:0.899168\n",
            "[50]\tvalidation_0-aucpr:0.898123\n",
            "[51]\tvalidation_0-aucpr:0.8975\n",
            "[52]\tvalidation_0-aucpr:0.900407\n",
            "[53]\tvalidation_0-aucpr:0.90437\n",
            "[54]\tvalidation_0-aucpr:0.90383\n",
            "[55]\tvalidation_0-aucpr:0.907653\n",
            "[56]\tvalidation_0-aucpr:0.907411\n",
            "[57]\tvalidation_0-aucpr:0.908519\n",
            "[58]\tvalidation_0-aucpr:0.913843\n",
            "[59]\tvalidation_0-aucpr:0.914145\n",
            "[60]\tvalidation_0-aucpr:0.916351\n",
            "[61]\tvalidation_0-aucpr:0.919637\n",
            "[62]\tvalidation_0-aucpr:0.921551\n",
            "[63]\tvalidation_0-aucpr:0.924642\n",
            "[64]\tvalidation_0-aucpr:0.926256\n",
            "[65]\tvalidation_0-aucpr:0.927166\n",
            "[66]\tvalidation_0-aucpr:0.928173\n",
            "[67]\tvalidation_0-aucpr:0.928686\n",
            "[68]\tvalidation_0-aucpr:0.929218\n",
            "[69]\tvalidation_0-aucpr:0.930367\n",
            "[70]\tvalidation_0-aucpr:0.93036\n",
            "[71]\tvalidation_0-aucpr:0.93168\n",
            "[72]\tvalidation_0-aucpr:0.933008\n",
            "[73]\tvalidation_0-aucpr:0.93447\n",
            "[74]\tvalidation_0-aucpr:0.937364\n",
            "[75]\tvalidation_0-aucpr:0.937582\n",
            "[76]\tvalidation_0-aucpr:0.937441\n",
            "[77]\tvalidation_0-aucpr:0.938348\n",
            "[78]\tvalidation_0-aucpr:0.938782\n",
            "[79]\tvalidation_0-aucpr:0.93872\n",
            "[80]\tvalidation_0-aucpr:0.938369\n",
            "[81]\tvalidation_0-aucpr:0.938013\n",
            "[82]\tvalidation_0-aucpr:0.939367\n",
            "[83]\tvalidation_0-aucpr:0.939528\n",
            "[84]\tvalidation_0-aucpr:0.942503\n",
            "[85]\tvalidation_0-aucpr:0.942408\n",
            "[86]\tvalidation_0-aucpr:0.941788\n",
            "[87]\tvalidation_0-aucpr:0.943775\n",
            "[88]\tvalidation_0-aucpr:0.944118\n",
            "[89]\tvalidation_0-aucpr:0.945165\n",
            "[90]\tvalidation_0-aucpr:0.947873\n",
            "[91]\tvalidation_0-aucpr:0.948465\n",
            "[92]\tvalidation_0-aucpr:0.948257\n",
            "[93]\tvalidation_0-aucpr:0.949394\n",
            "[94]\tvalidation_0-aucpr:0.95129\n",
            "[95]\tvalidation_0-aucpr:0.949784\n",
            "[96]\tvalidation_0-aucpr:0.950239\n",
            "[97]\tvalidation_0-aucpr:0.951502\n",
            "[98]\tvalidation_0-aucpr:0.95129\n",
            "[99]\tvalidation_0-aucpr:0.952352\n",
            "[100]\tvalidation_0-aucpr:0.951317\n",
            "[101]\tvalidation_0-aucpr:0.951386\n",
            "[102]\tvalidation_0-aucpr:0.9523\n",
            "[103]\tvalidation_0-aucpr:0.952698\n",
            "[104]\tvalidation_0-aucpr:0.9516\n",
            "[105]\tvalidation_0-aucpr:0.952379\n",
            "[106]\tvalidation_0-aucpr:0.952796\n",
            "[107]\tvalidation_0-aucpr:0.952257\n",
            "[108]\tvalidation_0-aucpr:0.952875\n",
            "[109]\tvalidation_0-aucpr:0.953129\n",
            "[110]\tvalidation_0-aucpr:0.955186\n",
            "[111]\tvalidation_0-aucpr:0.956878\n",
            "[112]\tvalidation_0-aucpr:0.955162\n",
            "[113]\tvalidation_0-aucpr:0.955466\n",
            "[114]\tvalidation_0-aucpr:0.955797\n",
            "[115]\tvalidation_0-aucpr:0.956239\n",
            "[116]\tvalidation_0-aucpr:0.955946\n",
            "[117]\tvalidation_0-aucpr:0.956484\n",
            "[118]\tvalidation_0-aucpr:0.957814\n",
            "[119]\tvalidation_0-aucpr:0.958391\n",
            "[120]\tvalidation_0-aucpr:0.958699\n",
            "[121]\tvalidation_0-aucpr:0.957945\n",
            "[122]\tvalidation_0-aucpr:0.957672\n",
            "[123]\tvalidation_0-aucpr:0.957837\n",
            "[124]\tvalidation_0-aucpr:0.958012\n",
            "[125]\tvalidation_0-aucpr:0.958249\n",
            "[126]\tvalidation_0-aucpr:0.958951\n",
            "[127]\tvalidation_0-aucpr:0.958912\n",
            "[128]\tvalidation_0-aucpr:0.959136\n",
            "[129]\tvalidation_0-aucpr:0.959242\n",
            "[130]\tvalidation_0-aucpr:0.958439\n",
            "[131]\tvalidation_0-aucpr:0.958827\n",
            "[132]\tvalidation_0-aucpr:0.959265\n",
            "[133]\tvalidation_0-aucpr:0.95938\n",
            "[134]\tvalidation_0-aucpr:0.958976\n",
            "[135]\tvalidation_0-aucpr:0.958708\n",
            "[136]\tvalidation_0-aucpr:0.958768\n",
            "[137]\tvalidation_0-aucpr:0.959075\n",
            "[138]\tvalidation_0-aucpr:0.958316\n",
            "[139]\tvalidation_0-aucpr:0.958979\n",
            "[140]\tvalidation_0-aucpr:0.958166\n",
            "[141]\tvalidation_0-aucpr:0.958213\n",
            "[142]\tvalidation_0-aucpr:0.958344\n",
            "[143]\tvalidation_0-aucpr:0.958557\n",
            "Stopping. Best iteration:\n",
            "[133]\tvalidation_0-aucpr:0.95938\n",
            "\n"
          ]
        },
        {
          "output_type": "execute_result",
          "data": {
            "text/plain": [
              "XGBClassifier(learning_rate=0.08, max_depth=4, n_estimators=300, seed=0,\n",
              "              tree_method='gpu_hist')"
            ]
          },
          "metadata": {},
          "execution_count": 55
        }
      ],
      "source": [
        "model = XGBClassifier(\n",
        "    max_depth=grid_search.best_params_['max_depth'],\n",
        "    n_estimators=grid_search.best_params_['n_estimators'],\n",
        "    learning_rate=grid_search.best_params_['learning_rate'],\n",
        "    tree_method='gpu_hist',\n",
        "    seed=0\n",
        ")\n",
        "\n",
        "model.fit(\n",
        "    x_train, \n",
        "    y_train, \n",
        "    eval_set=[(x_validation, y_validation)], \n",
        "    early_stopping_rounds=10, \n",
        "    eval_metric=\"aucpr\"\n",
        ")"
      ]
    },
    {
      "cell_type": "markdown",
      "metadata": {
        "id": "wVCEy4zhfgLI"
      },
      "source": [
        "###Test model"
      ]
    },
    {
      "cell_type": "code",
      "execution_count": null,
      "metadata": {
        "colab": {
          "base_uri": "https://localhost:8080/",
          "height": 668
        },
        "id": "3UsMPMQoLZf3",
        "outputId": "10a2a893-fc21-40ae-c633-8404041d6cd2"
      },
      "outputs": [
        {
          "output_type": "stream",
          "name": "stdout",
          "text": [
            "Precision 0.9965290821658774, Recall 0.9964141640519946, F-Score 0.9964563011841415\n"
          ]
        },
        {
          "output_type": "stream",
          "name": "stderr",
          "text": [
            "/usr/local/lib/python3.7/dist-packages/sklearn/utils/deprecation.py:87: FutureWarning: Function plot_roc_curve is deprecated; Function :func:`plot_roc_curve` is deprecated in 1.0 and will be removed in 1.2. Use one of the class methods: :meth:`sklearn.metric.RocCurveDisplay.from_predictions` or :meth:`sklearn.metric.RocCurveDisplay.from_estimator`.\n",
            "  warnings.warn(msg, category=FutureWarning)\n",
            "/usr/local/lib/python3.7/dist-packages/sklearn/utils/deprecation.py:87: FutureWarning: Function plot_confusion_matrix is deprecated; Function `plot_confusion_matrix` is deprecated in 1.0 and will be removed in 1.2. Use one of the class methods: ConfusionMatrixDisplay.from_predictions or ConfusionMatrixDisplay.from_estimator.\n",
            "  warnings.warn(msg, category=FutureWarning)\n"
          ]
        },
        {
          "output_type": "execute_result",
          "data": {
            "text/plain": [
              "<sklearn.metrics._plot.confusion_matrix.ConfusionMatrixDisplay at 0x7f82b02ff790>"
            ]
          },
          "metadata": {},
          "execution_count": 56
        },
        {
          "output_type": "display_data",
          "data": {
            "text/plain": [
              "<Figure size 432x288 with 1 Axes>"
            ],
            "image/png": "[encoded data removed]"
          },
          "metadata": {
            "needs_background": "light"
          }
        },
        {
          "output_type": "display_data",
          "data": {
            "text/plain": [
              "<Figure size 432x288 with 2 Axes>"
            ],
            "image/png": "[encoded data removed]"
          },
          "metadata": {
            "needs_background": "light"
          }
        }
      ],
      "source": [
        "test_predictions = model.predict(x_test)\n",
        "precision, recall, fscore, _ = metrics.precision_recall_fscore_support(y_test, test_predictions, average='weighted')\n",
        "\n",
        "print(\"Precision {}, Recall {}, F-Score {}\".format(precision, recall, fscore))\n",
        "metrics.plot_roc_curve(model, x_test, y_test)\n",
        "metrics.plot_confusion_matrix(model, x_test, y_test)\n"
      ]
    },
    {
      "cell_type": "code",
      "source": [
        "test_predictions = model.predict(x_df)\n",
        "precision, recall, fscore, _ = metrics.precision_recall_fscore_support(y_df, test_predictions, average='weighted')\n",
        "\n",
        "print(\"Precision {}, Recall {}, F-Score {}\".format(precision, recall, fscore))\n",
        "metrics.plot_roc_curve(model, x_df, y_df)\n",
        "metrics.plot_confusion_matrix(model, x_df, y_df)"
      ],
      "metadata": {
        "colab": {
          "base_uri": "https://localhost:8080/",
          "height": 668
        },
        "id": "b68M7QY3QeRA",
        "outputId": "b9751083-6450-43c1-af4f-e6879284a160"
      },
      "execution_count": null,
      "outputs": [
        {
          "output_type": "stream",
          "name": "stdout",
          "text": [
            "Precision 0.998226169981272, Recall 0.9981719061143212, F-Score 0.9981896070977352\n"
          ]
        },
        {
          "output_type": "stream",
          "name": "stderr",
          "text": [
            "/usr/local/lib/python3.7/dist-packages/sklearn/utils/deprecation.py:87: FutureWarning: Function plot_roc_curve is deprecated; Function :func:`plot_roc_curve` is deprecated in 1.0 and will be removed in 1.2. Use one of the class methods: :meth:`sklearn.metric.RocCurveDisplay.from_predictions` or :meth:`sklearn.metric.RocCurveDisplay.from_estimator`.\n",
            "  warnings.warn(msg, category=FutureWarning)\n",
            "/usr/local/lib/python3.7/dist-packages/sklearn/utils/deprecation.py:87: FutureWarning: Function plot_confusion_matrix is deprecated; Function `plot_confusion_matrix` is deprecated in 1.0 and will be removed in 1.2. Use one of the class methods: ConfusionMatrixDisplay.from_predictions or ConfusionMatrixDisplay.from_estimator.\n",
            "  warnings.warn(msg, category=FutureWarning)\n"
          ]
        },
        {
          "output_type": "execute_result",
          "data": {
            "text/plain": [
              "<sklearn.metrics._plot.confusion_matrix.ConfusionMatrixDisplay at 0x7f82b014df10>"
            ]
          },
          "metadata": {},
          "execution_count": 57
        },
        {
          "output_type": "display_data",
          "data": {
            "text/plain": [
              "<Figure size 432x288 with 1 Axes>"
            ],
            "image/png": "[encoded data removed]"
          },
          "metadata": {
            "needs_background": "light"
          }
        },
        {
          "output_type": "display_data",
          "data": {
            "text/plain": [
              "<Figure size 432x288 with 2 Axes>"
            ],
            "image/png": "[encoded data removed]"
          },
          "metadata": {
            "needs_background": "light"
          }
        }
      ]
    },
    {
      "cell_type": "markdown",
      "metadata": {
        "id": "aGcpcbyKnWCl"
      },
      "source": [
        "#References\n",
        "\n",
        "Data: https://github.com/DeeptiChevvuri/Predictive-Maintenance-Modelling-Datasets\n",
        "\n",
        "Guide: https://medium.com/@andrey.i.karpov/predictive-maintenance-on-factory-data-4f8cc17696e4\n",
        "\n",
        "GridSearch: https://www.mikulskibartosz.name/xgboost-hyperparameter-tuning-in-python-using-grid-search/"
      ]
    }
  ]
}